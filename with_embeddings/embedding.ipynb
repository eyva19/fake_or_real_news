{
 "cells": [
  {
   "cell_type": "markdown",
   "metadata": {},
   "source": [
    "### PART 1 - EMBEDDINGS"
   ]
  },
  {
   "cell_type": "code",
   "execution_count": 26,
   "metadata": {
    "collapsed": true,
    "jupyter": {
     "outputs_hidden": true
    },
    "tags": []
   },
   "outputs": [
    {
     "name": "stdout",
     "output_type": "stream",
     "text": [
      "Requirement already satisfied: openai==0.28.1 in /Users/eyva/anaconda3/lib/python3.10/site-packages (0.28.1)\n",
      "Requirement already satisfied: aiohttp in /Users/eyva/anaconda3/lib/python3.10/site-packages (from openai==0.28.1) (3.8.3)\n",
      "Requirement already satisfied: requests>=2.20 in /Users/eyva/anaconda3/lib/python3.10/site-packages (from openai==0.28.1) (2.29.0)\n",
      "Requirement already satisfied: tqdm in /Users/eyva/anaconda3/lib/python3.10/site-packages (from openai==0.28.1) (4.65.0)\n",
      "Requirement already satisfied: certifi>=2017.4.17 in /Users/eyva/anaconda3/lib/python3.10/site-packages (from requests>=2.20->openai==0.28.1) (2022.6.15)\n",
      "Requirement already satisfied: idna<4,>=2.5 in /Users/eyva/anaconda3/lib/python3.10/site-packages (from requests>=2.20->openai==0.28.1) (3.4)\n",
      "Requirement already satisfied: charset-normalizer<4,>=2 in /Users/eyva/anaconda3/lib/python3.10/site-packages (from requests>=2.20->openai==0.28.1) (2.0.4)\n",
      "Requirement already satisfied: urllib3<1.27,>=1.21.1 in /Users/eyva/anaconda3/lib/python3.10/site-packages (from requests>=2.20->openai==0.28.1) (1.26.16)\n",
      "Requirement already satisfied: attrs>=17.3.0 in /Users/eyva/anaconda3/lib/python3.10/site-packages (from aiohttp->openai==0.28.1) (22.1.0)\n",
      "Requirement already satisfied: yarl<2.0,>=1.0 in /Users/eyva/anaconda3/lib/python3.10/site-packages (from aiohttp->openai==0.28.1) (1.8.1)\n",
      "Requirement already satisfied: aiosignal>=1.1.2 in /Users/eyva/anaconda3/lib/python3.10/site-packages (from aiohttp->openai==0.28.1) (1.2.0)\n",
      "Requirement already satisfied: multidict<7.0,>=4.5 in /Users/eyva/anaconda3/lib/python3.10/site-packages (from aiohttp->openai==0.28.1) (6.0.2)\n",
      "Requirement already satisfied: frozenlist>=1.1.1 in /Users/eyva/anaconda3/lib/python3.10/site-packages (from aiohttp->openai==0.28.1) (1.3.3)\n",
      "Requirement already satisfied: async-timeout<5.0,>=4.0.0a3 in /Users/eyva/anaconda3/lib/python3.10/site-packages (from aiohttp->openai==0.28.1) (4.0.2)\n"
     ]
    }
   ],
   "source": [
    "!pip install openai==0.28.1"
   ]
  },
  {
   "cell_type": "code",
   "execution_count": 27,
   "metadata": {
    "tags": []
   },
   "outputs": [],
   "source": [
    "# import\n",
    "import pandas as pd\n",
    "import tiktoken"
   ]
  },
  {
   "cell_type": "code",
   "execution_count": 28,
   "metadata": {
    "tags": []
   },
   "outputs": [],
   "source": [
    "# embedding model parameters\n",
    "embedding_model = \"text-embedding-ada-002\"\n",
    "embedding_encoding = \"cl100k_base\"  \n",
    "max_tokens = 8000"
   ]
  },
  {
   "cell_type": "code",
   "execution_count": 29,
   "metadata": {
    "tags": []
   },
   "outputs": [
    {
     "data": {
      "text/plain": [
       "title       object\n",
       "text        object\n",
       "label       object\n",
       "combined    object\n",
       "dtype: object"
      ]
     },
     "execution_count": 29,
     "metadata": {},
     "output_type": "execute_result"
    }
   ],
   "source": [
    "# load & inspect dataset\n",
    "input_datapath = \"./news.csv\"\n",
    "df = pd.read_csv(input_datapath, index_col=0)\n",
    "df = df.dropna()\n",
    "df[\"combined\"] = (\n",
    "    \"title: \" + df.title.str.strip() + \"; Content: \" + df.text.str.strip()\n",
    ")\n",
    "\n",
    "df.dtypes"
   ]
  },
  {
   "cell_type": "code",
   "execution_count": 30,
   "metadata": {
    "tags": []
   },
   "outputs": [
    {
     "data": {
      "text/html": [
       "<div>\n",
       "<style scoped>\n",
       "    .dataframe tbody tr th:only-of-type {\n",
       "        vertical-align: middle;\n",
       "    }\n",
       "\n",
       "    .dataframe tbody tr th {\n",
       "        vertical-align: top;\n",
       "    }\n",
       "\n",
       "    .dataframe thead th {\n",
       "        text-align: right;\n",
       "    }\n",
       "</style>\n",
       "<table border=\"1\" class=\"dataframe\">\n",
       "  <thead>\n",
       "    <tr style=\"text-align: right;\">\n",
       "      <th></th>\n",
       "      <th>title</th>\n",
       "      <th>text</th>\n",
       "      <th>label</th>\n",
       "      <th>combined</th>\n",
       "    </tr>\n",
       "    <tr>\n",
       "      <th>id</th>\n",
       "      <th></th>\n",
       "      <th></th>\n",
       "      <th></th>\n",
       "      <th></th>\n",
       "    </tr>\n",
       "  </thead>\n",
       "  <tbody>\n",
       "    <tr>\n",
       "      <th>8476.0</th>\n",
       "      <td>You Can Smell Hillary’s Fear</td>\n",
       "      <td>Daniel Greenfield, a Shillman Journalism Fello...</td>\n",
       "      <td>FAKE</td>\n",
       "      <td>title: You Can Smell Hillary’s Fear; Content: ...</td>\n",
       "    </tr>\n",
       "    <tr>\n",
       "      <th>10294.0</th>\n",
       "      <td>Watch The Exact Moment Paul Ryan Committed Pol...</td>\n",
       "      <td>Google Pinterest Digg Linkedin Reddit Stumbleu...</td>\n",
       "      <td>FAKE</td>\n",
       "      <td>title: Watch The Exact Moment Paul Ryan Commit...</td>\n",
       "    </tr>\n",
       "  </tbody>\n",
       "</table>\n",
       "</div>"
      ],
      "text/plain": [
       "                                                     title  \\\n",
       "id                                                           \n",
       "8476.0                        You Can Smell Hillary’s Fear   \n",
       "10294.0  Watch The Exact Moment Paul Ryan Committed Pol...   \n",
       "\n",
       "                                                      text label  \\\n",
       "id                                                                 \n",
       "8476.0   Daniel Greenfield, a Shillman Journalism Fello...  FAKE   \n",
       "10294.0  Google Pinterest Digg Linkedin Reddit Stumbleu...  FAKE   \n",
       "\n",
       "                                                  combined  \n",
       "id                                                          \n",
       "8476.0   title: You Can Smell Hillary’s Fear; Content: ...  \n",
       "10294.0  title: Watch The Exact Moment Paul Ryan Commit...  "
      ]
     },
     "execution_count": 30,
     "metadata": {},
     "output_type": "execute_result"
    }
   ],
   "source": [
    "df.head(2)"
   ]
  },
  {
   "cell_type": "code",
   "execution_count": 31,
   "metadata": {
    "tags": []
   },
   "outputs": [
    {
     "data": {
      "text/plain": [
       "6314"
      ]
     },
     "execution_count": 31,
     "metadata": {},
     "output_type": "execute_result"
    }
   ],
   "source": [
    "# retrieves a specific text encoding method\n",
    "encoding = tiktoken.get_encoding(embedding_encoding)\n",
    "\n",
    "# add a new column \"n_tokens\"\n",
    "df[\"n_tokens\"] = df.combined.apply(lambda x: len(encoding.encode(x)))\n",
    "df = df[df.n_tokens <= max_tokens]\n",
    "len(df)"
   ]
  },
  {
   "cell_type": "code",
   "execution_count": 32,
   "metadata": {
    "tags": []
   },
   "outputs": [
    {
     "name": "stdout",
     "output_type": "stream",
     "text": [
      "Requirement already satisfied: matplotlib in /Users/eyva/anaconda3/lib/python3.10/site-packages (3.7.1)\n",
      "Requirement already satisfied: seaborn in /Users/eyva/anaconda3/lib/python3.10/site-packages (0.12.2)\n",
      "Requirement already satisfied: pillow>=6.2.0 in /Users/eyva/anaconda3/lib/python3.10/site-packages (from matplotlib) (9.4.0)\n",
      "Requirement already satisfied: packaging>=20.0 in /Users/eyva/anaconda3/lib/python3.10/site-packages (from matplotlib) (23.0)\n",
      "Requirement already satisfied: python-dateutil>=2.7 in /Users/eyva/anaconda3/lib/python3.10/site-packages (from matplotlib) (2.8.2)\n",
      "Requirement already satisfied: fonttools>=4.22.0 in /Users/eyva/anaconda3/lib/python3.10/site-packages (from matplotlib) (4.25.0)\n",
      "Requirement already satisfied: kiwisolver>=1.0.1 in /Users/eyva/anaconda3/lib/python3.10/site-packages (from matplotlib) (1.4.4)\n",
      "Requirement already satisfied: numpy>=1.20 in /Users/eyva/anaconda3/lib/python3.10/site-packages (from matplotlib) (1.24.3)\n",
      "Requirement already satisfied: pyparsing>=2.3.1 in /Users/eyva/anaconda3/lib/python3.10/site-packages (from matplotlib) (3.0.9)\n",
      "Requirement already satisfied: contourpy>=1.0.1 in /Users/eyva/anaconda3/lib/python3.10/site-packages (from matplotlib) (1.0.5)\n",
      "Requirement already satisfied: cycler>=0.10 in /Users/eyva/anaconda3/lib/python3.10/site-packages (from matplotlib) (0.11.0)\n",
      "Requirement already satisfied: pandas>=0.25 in /Users/eyva/anaconda3/lib/python3.10/site-packages (from seaborn) (1.5.3)\n",
      "Requirement already satisfied: pytz>=2020.1 in /Users/eyva/anaconda3/lib/python3.10/site-packages (from pandas>=0.25->seaborn) (2022.7)\n",
      "Requirement already satisfied: six>=1.5 in /Users/eyva/anaconda3/lib/python3.10/site-packages (from python-dateutil>=2.7->matplotlib) (1.16.0)\n"
     ]
    },
    {
     "data": {
      "image/png": "[encoded data removed]",
      "text/plain": [
       "<Figure size 1000x600 with 1 Axes>"
      ]
     },
     "metadata": {},
     "output_type": "display_data"
    }
   ],
   "source": [
    "# Distribution (explanation why OpenAI was choosen)\n",
    "!pip install matplotlib seaborn\n",
    "\n",
    "import matplotlib.pyplot as plt\n",
    "import seaborn as sns\n",
    "\n",
    "# Set the style of the plots\n",
    "sns.set()\n",
    "\n",
    "# Create a distribution plot for \"n_tokens\"\n",
    "plt.figure(figsize=(10, 6))  \n",
    "sns.histplot(df['n_tokens'], kde=True) \n",
    "\n",
    "# Customization\n",
    "plt.title('Distribution of n_tokens')\n",
    "plt.xlabel('n_tokens')\n",
    "plt.ylabel('Frequency')\n",
    "\n",
    "# Show the plot\n",
    "plt.show()"
   ]
  },
  {
   "cell_type": "code",
   "execution_count": 33,
   "metadata": {
    "tags": []
   },
   "outputs": [
    {
     "data": {
      "text/plain": [
       "True"
      ]
     },
     "execution_count": 33,
     "metadata": {},
     "output_type": "execute_result"
    }
   ],
   "source": [
    "from dotenv import load_dotenv\n",
    "import os\n",
    "load_dotenv('.env')"
   ]
  },
  {
   "cell_type": "code",
   "execution_count": 34,
   "metadata": {
    "tags": []
   },
   "outputs": [],
   "source": [
    "import openai\n",
    "openai.api_key_path = None\n",
    "openai.api_key=os.environ['OAI_KEY']"
   ]
  },
  {
   "cell_type": "code",
   "execution_count": 35,
   "metadata": {
    "tags": []
   },
   "outputs": [
    {
     "name": "stdout",
     "output_type": "stream",
     "text": [
      "title       object\n",
      "text        object\n",
      "label       object\n",
      "combined    object\n",
      "n_tokens     int64\n",
      "dtype: object\n"
     ]
    }
   ],
   "source": [
    "print(df.dtypes)"
   ]
  },
  {
   "cell_type": "code",
   "execution_count": 36,
   "metadata": {},
   "outputs": [],
   "source": [
    "# convert text into a vector \n",
    "from openai.embeddings_utils import get_embedding\n",
    "\n",
    "# creating a new column \"embedding\" in the dataframe\n",
    "df[\"embedding\"] = df.combined.apply(lambda x: get_embedding(x, engine=embedding_model))\n",
    "\n",
    "# saving the dataframe to a CSV file\n",
    "df.to_csv(\"./news_embedded.csv\")"
   ]
  },
  {
   "cell_type": "markdown",
   "metadata": {},
   "source": [
    "### PART 2 - CLASSIFICATION USING EMBEDDINGS"
   ]
  },
  {
   "cell_type": "code",
   "execution_count": 37,
   "metadata": {
    "tags": []
   },
   "outputs": [],
   "source": [
    "# import\n",
    "import numpy as np\n",
    "from ast import literal_eval\n",
    "from sklearn.ensemble import RandomForestClassifier\n",
    "from sklearn.model_selection import train_test_split\n",
    "from sklearn.metrics import classification_report, accuracy_score"
   ]
  },
  {
   "cell_type": "code",
   "execution_count": 38,
   "metadata": {
    "tags": []
   },
   "outputs": [],
   "source": [
    "# load data\n",
    "datafile_path = \"./news_embedded.csv\""
   ]
  },
  {
   "cell_type": "code",
   "execution_count": 39,
   "metadata": {
    "tags": []
   },
   "outputs": [],
   "source": [
    "df = pd.read_csv(datafile_path)\n",
    "# convert string to array\n",
    "df[\"embedding\"] = df.embedding.apply(literal_eval)"
   ]
  },
  {
   "cell_type": "code",
   "execution_count": 40,
   "metadata": {
    "tags": []
   },
   "outputs": [
    {
     "name": "stdout",
     "output_type": "stream",
     "text": [
      "<class 'pandas.core.frame.DataFrame'>\n",
      "RangeIndex: 6314 entries, 0 to 6313\n",
      "Data columns (total 7 columns):\n",
      " #   Column     Non-Null Count  Dtype  \n",
      "---  ------     --------------  -----  \n",
      " 0   id         6309 non-null   float64\n",
      " 1   title      6314 non-null   object \n",
      " 2   text       6314 non-null   object \n",
      " 3   label      6314 non-null   object \n",
      " 4   combined   6314 non-null   object \n",
      " 5   n_tokens   6314 non-null   int64  \n",
      " 6   embedding  6314 non-null   object \n",
      "dtypes: float64(1), int64(1), object(5)\n",
      "memory usage: 345.4+ KB\n"
     ]
    }
   ],
   "source": [
    "df.info()"
   ]
  },
  {
   "cell_type": "code",
   "execution_count": 41,
   "metadata": {
    "tags": []
   },
   "outputs": [],
   "source": [
    "new_data=[row for row in df.embedding]\n",
    "    \n",
    "new_data=np.array(new_data)"
   ]
  },
  {
   "cell_type": "code",
   "execution_count": 42,
   "metadata": {
    "tags": []
   },
   "outputs": [],
   "source": [
    "# split data into train and test\n",
    "X_train, X_test, y_train, y_test = train_test_split(\n",
    "    new_data, df.label, test_size=0.2, random_state=42\n",
    ")"
   ]
  },
  {
   "cell_type": "code",
   "execution_count": 43,
   "metadata": {
    "tags": []
   },
   "outputs": [
    {
     "data": {
      "text/plain": [
       "1.0"
      ]
     },
     "execution_count": 43,
     "metadata": {},
     "output_type": "execute_result"
    }
   ],
   "source": [
    "# batch\n",
    "rfc=RandomForestClassifier()\n",
    "rfc.fit(X_train, y_train)\n",
    "rfc.score(X_train, y_train)"
   ]
  },
  {
   "cell_type": "code",
   "execution_count": 44,
   "metadata": {
    "tags": []
   },
   "outputs": [
    {
     "data": {
      "text/plain": [
       "0.9073634204275535"
      ]
     },
     "execution_count": 44,
     "metadata": {},
     "output_type": "execute_result"
    }
   ],
   "source": [
    "rfc.score(X_test, y_test)"
   ]
  },
  {
   "cell_type": "code",
   "execution_count": 45,
   "metadata": {
    "tags": []
   },
   "outputs": [],
   "source": [
    "# Make predictions on the test set\n",
    "preds = rfc.predict(X_test)"
   ]
  },
  {
   "cell_type": "code",
   "execution_count": 46,
   "metadata": {
    "tags": []
   },
   "outputs": [
    {
     "name": "stdout",
     "output_type": "stream",
     "text": [
      "              precision    recall  f1-score   support\n",
      "\n",
      "        FAKE       0.88      0.95      0.91       640\n",
      "        REAL       0.94      0.87      0.90       623\n",
      "\n",
      "    accuracy                           0.91      1263\n",
      "   macro avg       0.91      0.91      0.91      1263\n",
      "weighted avg       0.91      0.91      0.91      1263\n",
      "\n"
     ]
    }
   ],
   "source": [
    "# Generate and print the classification report\n",
    "report = classification_report(y_test, preds)\n",
    "print(report)"
   ]
  }
 ],
 "metadata": {
  "file_extension": ".py",
  "kernelspec": {
   "display_name": "Python 3 (ipykernel)",
   "language": "python",
   "name": "python3"
  },
  "language_info": {
   "codemirror_mode": {
    "name": "ipython",
    "version": 3
   },
   "file_extension": ".py",
   "mimetype": "text/x-python",
   "name": "python",
   "nbconvert_exporter": "python",
   "pygments_lexer": "ipython3",
   "version": "3.10.11"
  },
  "mimetype": "text/x-python",
  "name": "python",
  "npconvert_exporter": "python",
  "pygments_lexer": "ipython3",
  "version": 3
 },
 "nbformat": 4,
 "nbformat_minor": 4
}
